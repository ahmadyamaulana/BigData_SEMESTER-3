{
  "nbformat": 4,
  "nbformat_minor": 0,
  "metadata": {
    "colab": {
      "provenance": []
    },
    "kernelspec": {
      "name": "python3",
      "display_name": "Python 3"
    },
    "language_info": {
      "name": "python"
    }
  },
  "cells": [
    {
      "cell_type": "code",
      "execution_count": 1,
      "metadata": {
        "colab": {
          "base_uri": "https://localhost:8080/"
        },
        "id": "LEp3Gt9HHDTT",
        "outputId": "0b9d3293-1766-4148-b931-9c99cb5d704e"
      },
      "outputs": [
        {
          "output_type": "stream",
          "name": "stdout",
          "text": [
            "+------------+----------+------+\n",
            "|EmployeeName|Department|Salary|\n",
            "+------------+----------+------+\n",
            "|       James|     Sales|  3000|\n",
            "|     Michael|     Sales|  4600|\n",
            "|      Robert|     Sales|  4100|\n",
            "|       Maria|   Finance|  3000|\n",
            "+------------+----------+------+\n",
            "\n",
            "root\n",
            " |-- EmployeeName: string (nullable = true)\n",
            " |-- Department: string (nullable = true)\n",
            " |-- Salary: long (nullable = true)\n",
            "\n"
          ]
        }
      ],
      "source": [
        "# Contoh membuat DataFrame sederhana dan operasi dasar\n",
        "from pyspark.sql import SparkSession\n",
        "spark = SparkSession.builder.appName('HandsOnPertemuan3').getOrCreate()\n",
        "\n",
        "data = [('James', 'Sales', 3000),\n",
        "        ('Michael', 'Sales', 4600),\n",
        "        ('Robert', 'Sales', 4100),\n",
        "        ('Maria', 'Finance', 3000)]\n",
        "columns = ['EmployeeName', 'Department', 'Salary']\n",
        "\n",
        "df = spark.createDataFrame(data, schema=columns)\n",
        "df.show()\n",
        "\n",
        "df.printSchema()"
      ]
    },
    {
      "cell_type": "code",
      "source": [
        "# Tugas 2\n",
        "print(\"Filtering data\")\n",
        "df.select('EmployeeName', 'Salary').show()\n",
        "\n",
        "print(\"Data yang memiliki penjualan 3000 keatas\")\n",
        "df.filter(df['Salary'] > 3000).show()\n",
        "\n",
        "print(\"Rata-Rata Penjualan\")\n",
        "from pyspark.sql.functions import avg, max, sum\n",
        "df.groupBy('Department').agg(avg(\"Salary\")).show()\n",
        "\n",
        "print(\"Maximal Penjualan\")\n",
        "df.groupBy('Department').agg(max(\"Salary\")).show()\n",
        "\n",
        "print(\"Total Penjualan\")\n",
        "df.groupBy('Department').agg(sum(\"Salary\")).show()\n"
      ],
      "metadata": {
        "colab": {
          "base_uri": "https://localhost:8080/"
        },
        "id": "7TOjxYFyOQmq",
        "outputId": "3694a971-826d-4322-ad1f-3c84be416a2a"
      },
      "execution_count": null,
      "outputs": [
        {
          "output_type": "stream",
          "name": "stdout",
          "text": [
            "Filtering data\n",
            "+------------+------+\n",
            "|EmployeeName|Salary|\n",
            "+------------+------+\n",
            "|       James|  3000|\n",
            "|     Michael|  4600|\n",
            "|      Robert|  4100|\n",
            "|       Maria|  3000|\n",
            "+------------+------+\n",
            "\n",
            "Data yang memiliki penjualan 3000 keatas\n",
            "+------------+----------+------+\n",
            "|EmployeeName|Department|Salary|\n",
            "+------------+----------+------+\n",
            "|     Michael|     Sales|  4600|\n",
            "|      Robert|     Sales|  4100|\n",
            "+------------+----------+------+\n",
            "\n",
            "Rata-Rata Penjualan\n",
            "+----------+-----------+\n",
            "|Department|avg(Salary)|\n",
            "+----------+-----------+\n",
            "|     Sales|     3900.0|\n",
            "|   Finance|     3000.0|\n",
            "+----------+-----------+\n",
            "\n",
            "Maximal Penjualan\n",
            "+----------+-----------+\n",
            "|Department|max(Salary)|\n",
            "+----------+-----------+\n",
            "|     Sales|       4600|\n",
            "|   Finance|       3000|\n",
            "+----------+-----------+\n",
            "\n",
            "Total Penjualan\n",
            "+----------+-----------+\n",
            "|Department|sum(Salary)|\n",
            "+----------+-----------+\n",
            "|     Sales|      11700|\n",
            "|   Finance|       3000|\n",
            "+----------+-----------+\n",
            "\n"
          ]
        }
      ]
    },
    {
      "cell_type": "code",
      "source": [
        "#Tugas 3\n",
        "print(\"Data Bonus\")\n",
        "df_with_bonus = df.withColumn('SalaryBonus', df['Salary'] * 0.1)\n",
        "df_with_bonus.show()\n",
        "\n",
        "print(\"Total Compensation\")\n",
        "df_total_comp = df_with_bonus.withColumn('TotalCompensation', df_with_bonus['Salary'] + df_with_bonus['SalaryBonus'])\n",
        "df_total_comp.show()"
      ],
      "metadata": {
        "colab": {
          "base_uri": "https://localhost:8080/"
        },
        "id": "yNuFVyXiGr7N",
        "outputId": "877fba18-93f6-46c3-c22b-7cc110b55783"
      },
      "execution_count": null,
      "outputs": [
        {
          "output_type": "stream",
          "name": "stdout",
          "text": [
            "Data Bonus\n",
            "+------------+----------+------+-----------+\n",
            "|EmployeeName|Department|Salary|SalaryBonus|\n",
            "+------------+----------+------+-----------+\n",
            "|       James|     Sales|  3000|      300.0|\n",
            "|     Michael|     Sales|  4600|      460.0|\n",
            "|      Robert|     Sales|  4100|      410.0|\n",
            "|       Maria|   Finance|  3000|      300.0|\n",
            "+------------+----------+------+-----------+\n",
            "\n",
            "Total Compensation\n",
            "+------------+----------+------+-----------+-----------------+\n",
            "|EmployeeName|Department|Salary|SalaryBonus|TotalCompensation|\n",
            "+------------+----------+------+-----------+-----------------+\n",
            "|       James|     Sales|  3000|      300.0|           3300.0|\n",
            "|     Michael|     Sales|  4600|      460.0|           5060.0|\n",
            "|      Robert|     Sales|  4100|      410.0|           4510.0|\n",
            "|       Maria|   Finance|  3000|      300.0|           3300.0|\n",
            "+------------+----------+------+-----------+-----------------+\n",
            "\n"
          ]
        }
      ]
    },
    {
      "cell_type": "code",
      "source": [
        "#Tugas 4\n",
        "from pyspark.sql.window import Window\n",
        "from pyspark.sql import functions as F\n",
        "\n",
        "print(\"Rank\")\n",
        "windowSpec = Window.partitionBy('Department').orderBy('Salary')\n",
        "df.withColumn('Rank', F.rank().over(windowSpec)).show()\n",
        "\n",
        "print(\"Running Total\")\n",
        "df.withColumn(\"Running_Total\", F.sum(\"Salary\").over(windowSpec)).show()"
      ],
      "metadata": {
        "colab": {
          "base_uri": "https://localhost:8080/"
        },
        "id": "THKJPrPZHrf1",
        "outputId": "77f9d229-10e2-4d9c-8e2f-2a5e2f570a08"
      },
      "execution_count": null,
      "outputs": [
        {
          "output_type": "stream",
          "name": "stdout",
          "text": [
            "Rank\n",
            "+------------+----------+------+----+\n",
            "|EmployeeName|Department|Salary|Rank|\n",
            "+------------+----------+------+----+\n",
            "|       Maria|   Finance|  3000|   1|\n",
            "|       James|     Sales|  3000|   1|\n",
            "|      Robert|     Sales|  4100|   2|\n",
            "|     Michael|     Sales|  4600|   3|\n",
            "+------------+----------+------+----+\n",
            "\n",
            "Running Total\n",
            "+------------+----------+------+-------------+\n",
            "|EmployeeName|Department|Salary|Running_Total|\n",
            "+------------+----------+------+-------------+\n",
            "|       Maria|   Finance|  3000|         3000|\n",
            "|       James|     Sales|  3000|         3000|\n",
            "|      Robert|     Sales|  4100|         7100|\n",
            "|     Michael|     Sales|  4600|        11700|\n",
            "+------------+----------+------+-------------+\n",
            "\n"
          ]
        }
      ]
    },
    {
      "cell_type": "code",
      "source": [
        "#Tugas 5\n",
        "!pip install kaggle\n"
      ],
      "metadata": {
        "id": "KiB-OKgGRl-K",
        "colab": {
          "base_uri": "https://localhost:8080/"
        },
        "outputId": "357c8ae2-7310-4b7e-f349-2bdca0d2f757"
      },
      "execution_count": null,
      "outputs": [
        {
          "output_type": "stream",
          "name": "stdout",
          "text": [
            "Requirement already satisfied: kaggle in /usr/local/lib/python3.12/dist-packages (1.7.4.5)\n",
            "Requirement already satisfied: bleach in /usr/local/lib/python3.12/dist-packages (from kaggle) (6.2.0)\n",
            "Requirement already satisfied: certifi>=14.05.14 in /usr/local/lib/python3.12/dist-packages (from kaggle) (2025.8.3)\n",
            "Requirement already satisfied: charset-normalizer in /usr/local/lib/python3.12/dist-packages (from kaggle) (3.4.3)\n",
            "Requirement already satisfied: idna in /usr/local/lib/python3.12/dist-packages (from kaggle) (3.10)\n",
            "Requirement already satisfied: protobuf in /usr/local/lib/python3.12/dist-packages (from kaggle) (5.29.5)\n",
            "Requirement already satisfied: python-dateutil>=2.5.3 in /usr/local/lib/python3.12/dist-packages (from kaggle) (2.9.0.post0)\n",
            "Requirement already satisfied: python-slugify in /usr/local/lib/python3.12/dist-packages (from kaggle) (8.0.4)\n",
            "Requirement already satisfied: requests in /usr/local/lib/python3.12/dist-packages (from kaggle) (2.32.4)\n",
            "Requirement already satisfied: setuptools>=21.0.0 in /usr/local/lib/python3.12/dist-packages (from kaggle) (75.2.0)\n",
            "Requirement already satisfied: six>=1.10 in /usr/local/lib/python3.12/dist-packages (from kaggle) (1.17.0)\n",
            "Requirement already satisfied: text-unidecode in /usr/local/lib/python3.12/dist-packages (from kaggle) (1.3)\n",
            "Requirement already satisfied: tqdm in /usr/local/lib/python3.12/dist-packages (from kaggle) (4.67.1)\n",
            "Requirement already satisfied: urllib3>=1.15.1 in /usr/local/lib/python3.12/dist-packages (from kaggle) (2.5.0)\n",
            "Requirement already satisfied: webencodings in /usr/local/lib/python3.12/dist-packages (from kaggle) (0.5.1)\n",
            "cp: cannot stat 'kaggle.json': No such file or directory\n",
            "chmod: cannot access '/root/.kaggle/kaggle.json': No such file or directory\n"
          ]
        }
      ]
    },
    {
      "cell_type": "code",
      "source": [
        "from pyspark.sql import functions as SparkFuncs\n",
        "from pyspark.sql import SparkSession\n",
        "\n",
        "spark = SparkSession.builder.appName(\"Praktikum\").getOrCreate()\n",
        "\n",
        "dataframe = spark.read.csv(\"coffe sales1.csv\", header=True, inferSchema=True)\n",
        "dataframe.show()"
      ],
      "metadata": {
        "colab": {
          "base_uri": "https://localhost:8080/"
        },
        "id": "ondCkSupViSl",
        "outputId": "26d026b3-4c07-4efe-ac41-a3f5e562594e"
      },
      "execution_count": 3,
      "outputs": [
        {
          "output_type": "stream",
          "name": "stdout",
          "text": [
            "+----------+--------------------+---------+-------------------+-----+-------------------+\n",
            "|      date|            datetime|cash_type|               card|money|        coffee_name|\n",
            "+----------+--------------------+---------+-------------------+-----+-------------------+\n",
            "|2024-03-01|2024-03-01 10:15:...|     card|ANON-0000-0000-0001| 38.7|              Latte|\n",
            "|2024-03-01|2024-03-01 12:19:...|     card|ANON-0000-0000-0002| 38.7|      Hot Chocolate|\n",
            "|2024-03-01|2024-03-01 12:20:...|     card|ANON-0000-0000-0002| 38.7|      Hot Chocolate|\n",
            "|2024-03-01|2024-03-01 13:46:...|     card|ANON-0000-0000-0003| 28.9|          Americano|\n",
            "|2024-03-01|2024-03-01 13:48:...|     card|ANON-0000-0000-0004| 38.7|              Latte|\n",
            "|2024-03-01|2024-03-01 15:39:...|     card|ANON-0000-0000-0005| 33.8|Americano with Milk|\n",
            "|2024-03-01|2024-03-01 16:19:...|     card|ANON-0000-0000-0006| 38.7|      Hot Chocolate|\n",
            "|2024-03-01|2024-03-01 18:39:...|     card|ANON-0000-0000-0007| 33.8|Americano with Milk|\n",
            "|2024-03-01|2024-03-01 19:22:...|     card|ANON-0000-0000-0008| 38.7|              Cocoa|\n",
            "|2024-03-01|2024-03-01 19:23:...|     card|ANON-0000-0000-0008| 33.8|Americano with Milk|\n",
            "|2024-03-01|2024-03-01 19:29:...|     card|ANON-0000-0000-0009| 33.8|Americano with Milk|\n",
            "|2024-03-02|2024-03-02 10:22:...|     card|ANON-0000-0000-0010| 28.9|          Americano|\n",
            "|2024-03-02|2024-03-02 10:30:...|     cash|               NULL| 40.0|              Latte|\n",
            "|2024-03-02|2024-03-02 10:41:...|     card|ANON-0000-0000-0011| 33.8|Americano with Milk|\n",
            "|2024-03-02|2024-03-02 11:59:...|     card|ANON-0000-0000-0012| 33.8|Americano with Milk|\n",
            "|2024-03-02|2024-03-02 14:38:...|     card|ANON-0000-0000-0013| 28.9|          Americano|\n",
            "|2024-03-02|2024-03-02 16:37:...|     card|ANON-0000-0000-0014| 33.8|Americano with Milk|\n",
            "|2024-03-02|2024-03-02 17:34:...|     card|ANON-0000-0000-0004| 28.9|          Americano|\n",
            "|2024-03-03|2024-03-03 10:10:...|     cash|               NULL| 40.0|              Latte|\n",
            "|2024-03-03|2024-03-03 10:27:...|     card|ANON-0000-0000-0015| 38.7|              Latte|\n",
            "+----------+--------------------+---------+-------------------+-----+-------------------+\n",
            "only showing top 20 rows\n",
            "\n"
          ]
        }
      ]
    },
    {
      "cell_type": "code",
      "source": [
        "#Filter Data\n",
        "from pyspark.sql import functions as F\n",
        "from pyspark.sql import SparkSession\n",
        "\n",
        "result = dataframe.select(\"date\", \"cash_type\", \"card\", \"money\") \\\n",
        "    .filter(F.col(\"coffee_name\") == \"Latte\")\n",
        "\n",
        "result.show(truncate=False)"
      ],
      "metadata": {
        "colab": {
          "base_uri": "https://localhost:8080/"
        },
        "id": "6K2_UplOW540",
        "outputId": "4f2d0a72-666b-4187-b563-47d7db772a48"
      },
      "execution_count": 6,
      "outputs": [
        {
          "output_type": "stream",
          "name": "stdout",
          "text": [
            "+----------+---------+-------------------+-----+\n",
            "|date      |cash_type|card               |money|\n",
            "+----------+---------+-------------------+-----+\n",
            "|2024-03-01|card     |ANON-0000-0000-0001|38.7 |\n",
            "|2024-03-01|card     |ANON-0000-0000-0004|38.7 |\n",
            "|2024-03-02|cash     |NULL               |40.0 |\n",
            "|2024-03-03|cash     |NULL               |40.0 |\n",
            "|2024-03-03|card     |ANON-0000-0000-0015|38.7 |\n",
            "|2024-03-04|card     |ANON-0000-0000-0001|38.7 |\n",
            "|2024-03-04|card     |ANON-0000-0000-0021|38.7 |\n",
            "|2024-03-05|card     |ANON-0000-0000-0001|38.7 |\n",
            "|2024-03-05|card     |ANON-0000-0000-0023|38.7 |\n",
            "|2024-03-05|card     |ANON-0000-0000-0024|38.7 |\n",
            "|2024-03-07|cash     |NULL               |40.0 |\n",
            "|2024-03-07|card     |ANON-0000-0000-0031|38.7 |\n",
            "|2024-03-07|cash     |NULL               |40.0 |\n",
            "|2024-03-08|card     |ANON-0000-0000-0036|38.7 |\n",
            "|2024-03-08|card     |ANON-0000-0000-0037|38.7 |\n",
            "|2024-03-09|card     |ANON-0000-0000-0041|38.7 |\n",
            "|2024-03-10|cash     |NULL               |40.0 |\n",
            "|2024-03-10|card     |ANON-0000-0000-0046|38.7 |\n",
            "|2024-03-11|cash     |NULL               |40.0 |\n",
            "|2024-03-11|card     |ANON-0000-0000-0047|38.7 |\n",
            "+----------+---------+-------------------+-----+\n",
            "only showing top 20 rows\n",
            "\n"
          ]
        }
      ]
    },
    {
      "cell_type": "code",
      "source": [
        "money_count = dataframe.groupBy(\"money\").count().orderBy(F.desc(\"count\"))\n",
        "\n",
        "# Get the most common money value\n",
        "most_common_money = money_count.first()[\"money\"]\n",
        "\n",
        "# Filter the original dataframe based on the most common money value and select relevant columns\n",
        "result = dataframe.filter(F.col(\"money\") == most_common_money) \\\n",
        "                 .select(\"date\", \"cash_type\", \"card\", \"money\", \"coffee_name\")\n",
        "\n",
        "result.show(truncate=False)"
      ],
      "metadata": {
        "colab": {
          "base_uri": "https://localhost:8080/"
        },
        "id": "UmoDu_-bYAti",
        "outputId": "d5968b56-b371-4fbb-fc74-db5ca4acbd41"
      },
      "execution_count": 12,
      "outputs": [
        {
          "output_type": "stream",
          "name": "stdout",
          "text": [
            "+----------+---------+-------------------+-----+-------------+\n",
            "|date      |cash_type|card               |money|coffee_name  |\n",
            "+----------+---------+-------------------+-----+-------------+\n",
            "|2024-09-28|card     |ANON-0000-0000-0507|35.76|Latte        |\n",
            "|2024-09-28|card     |ANON-0000-0000-0683|35.76|Latte        |\n",
            "|2024-09-28|card     |ANON-0000-0000-0445|35.76|Latte        |\n",
            "|2024-09-28|card     |ANON-0000-0000-0685|35.76|Latte        |\n",
            "|2024-09-28|card     |ANON-0000-0000-0686|35.76|Cappuccino   |\n",
            "|2024-09-28|card     |ANON-0000-0000-0686|35.76|Cocoa        |\n",
            "|2024-09-28|card     |ANON-0000-0000-0687|35.76|Hot Chocolate|\n",
            "|2024-09-29|card     |ANON-0000-0000-0172|35.76|Cappuccino   |\n",
            "|2024-09-29|card     |ANON-0000-0000-0172|35.76|Cappuccino   |\n",
            "|2024-09-29|card     |ANON-0000-0000-0172|35.76|Cappuccino   |\n",
            "|2024-09-29|card     |ANON-0000-0000-0683|35.76|Latte        |\n",
            "|2024-09-29|card     |ANON-0000-0000-0602|35.76|Latte        |\n",
            "|2024-09-29|card     |ANON-0000-0000-0688|35.76|Latte        |\n",
            "|2024-09-29|card     |ANON-0000-0000-0689|35.76|Cappuccino   |\n",
            "|2024-09-29|card     |ANON-0000-0000-0690|35.76|Latte        |\n",
            "|2024-09-30|card     |ANON-0000-0000-0692|35.76|Hot Chocolate|\n",
            "|2024-09-30|card     |ANON-0000-0000-0507|35.76|Latte        |\n",
            "|2024-09-30|card     |ANON-0000-0000-0631|35.76|Latte        |\n",
            "|2024-10-01|card     |ANON-0000-0000-0696|35.76|Latte        |\n",
            "|2024-10-01|card     |ANON-0000-0000-0637|35.76|Hot Chocolate|\n",
            "+----------+---------+-------------------+-----+-------------+\n",
            "only showing top 20 rows\n",
            "\n"
          ]
        }
      ]
    }
  ]
}