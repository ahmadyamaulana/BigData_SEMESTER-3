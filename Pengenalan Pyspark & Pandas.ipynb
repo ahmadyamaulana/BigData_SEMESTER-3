{
  "nbformat": 4,
  "nbformat_minor": 0,
  "metadata": {
    "colab": {
      "provenance": []
    },
    "kernelspec": {
      "name": "python3",
      "display_name": "Python 3"
    },
    "language_info": {
      "name": "python"
    }
  },
  "cells": [
    {
      "cell_type": "code",
      "source": [
        "pip install pyspark"
      ],
      "metadata": {
        "colab": {
          "base_uri": "https://localhost:8080/"
        },
        "id": "LrewKcYxAWU-",
        "outputId": "8d0bba07-e174-4e84-ade0-3a685f80c185"
      },
      "execution_count": null,
      "outputs": [
        {
          "output_type": "stream",
          "name": "stdout",
          "text": [
            "Requirement already satisfied: pyspark in /usr/local/lib/python3.12/dist-packages (3.5.1)\n",
            "Requirement already satisfied: py4j==0.10.9.7 in /usr/local/lib/python3.12/dist-packages (from pyspark) (0.10.9.7)\n"
          ]
        }
      ]
    },
    {
      "cell_type": "code",
      "source": [
        "pip install pandas"
      ],
      "metadata": {
        "colab": {
          "base_uri": "https://localhost:8080/"
        },
        "id": "saSGEHBoBb1m",
        "outputId": "d3dfdd59-a064-47fe-d27c-59e842bbe8f8"
      },
      "execution_count": null,
      "outputs": [
        {
          "output_type": "stream",
          "name": "stdout",
          "text": [
            "Requirement already satisfied: pandas in /usr/local/lib/python3.12/dist-packages (2.2.2)\n",
            "Requirement already satisfied: numpy>=1.26.0 in /usr/local/lib/python3.12/dist-packages (from pandas) (2.0.2)\n",
            "Requirement already satisfied: python-dateutil>=2.8.2 in /usr/local/lib/python3.12/dist-packages (from pandas) (2.9.0.post0)\n",
            "Requirement already satisfied: pytz>=2020.1 in /usr/local/lib/python3.12/dist-packages (from pandas) (2025.2)\n",
            "Requirement already satisfied: tzdata>=2022.7 in /usr/local/lib/python3.12/dist-packages (from pandas) (2025.2)\n",
            "Requirement already satisfied: six>=1.5 in /usr/local/lib/python3.12/dist-packages (from python-dateutil>=2.8.2->pandas) (1.17.0)\n"
          ]
        }
      ]
    },
    {
      "cell_type": "markdown",
      "source": [
        "Tugas 1"
      ],
      "metadata": {
        "id": "dbO0EIKblg7c"
      }
    },
    {
      "cell_type": "code",
      "execution_count": null,
      "metadata": {
        "colab": {
          "base_uri": "https://localhost:8080/"
        },
        "id": "6Rc4xtQrT-pR",
        "outputId": "efe6a232-fa34-455d-beaf-ecb6f85710a3"
      },
      "outputs": [
        {
          "output_type": "stream",
          "name": "stdout",
          "text": [
            "+-----+----+---------+---------+------+\n",
            "| Nama|Usia|     work|    hobby|gender|\n",
            "+-----+----+---------+---------+------+\n",
            "|  Ali|  34| kantoran|memancing|  pria|\n",
            "| Budi|  23|wirausaha|  bermain|  pria|\n",
            "|Citra|  29|    dosen|  belajar|wanita|\n",
            "| Dina|  45| pedagang|  belanja|wanita|\n",
            "+-----+----+---------+---------+------+\n",
            "\n"
          ]
        }
      ],
      "source": [
        "from pyspark.sql import SparkSession\n",
        "\n",
        "# Memulai Spark session\n",
        "spark = SparkSession.builder.appName(\"BigDataPractice\").getOrCreate()\n",
        "\n",
        "# Membuat DataFrame sederhana\n",
        "data = [(\"Ali\", 34, \"kantoran\", \"memancing\", \"pria\"), (\"Budi\", 23, \"wirausaha\", \"bermain\", \"pria\"), (\"Citra\", 29, \"dosen\", \"belajar\", \"wanita\"), (\"Dina\", 45, \"pedagang\", \"belanja\", \"wanita\")]\n",
        "columns = [\"Nama\", \"Usia\", \"work\", \"hobby\", \"gender\"]\n",
        "df = spark.createDataFrame(data, columns,)\n",
        "\n",
        "# Menampilkan DataFrame\n",
        "df.show()"
      ]
    },
    {
      "cell_type": "markdown",
      "source": [
        "Tugas 2"
      ],
      "metadata": {
        "id": "J1GGgLe_mAAX"
      }
    },
    {
      "cell_type": "code",
      "source": [
        "from pyspark.sql import SparkSession\n",
        "\n",
        "# Memulai Spark session\n",
        "spark = SparkSession.builder.appName(\"BigDataPractice\").getOrCreate()\n",
        "\n",
        "# Membuat DataFrame sederhana\n",
        "data = [(\"Ali\", 34, \"kantoran\", \"memancing\", \"pria\"), (\"Budi\", 23, \"wirausaha\", \"bermain\", \"pria\"), (\"Citra\", 29, \"dosen\", \"belajar\", \"wanita\"), (\"Dina\", 45, \"pedagang\", \"belanja\", \"wanita\")]\n",
        "columns = [\"Nama\", \"Usia\", \"work\", \"hobby\", \"gender\"]\n",
        "df = spark.createDataFrame(data, columns)\n",
        "\n",
        "# Menampilkan DataFrame\n",
        "df.show()\n",
        "\n",
        "# Filtering data\n",
        "df_filtered = df.filter(df['Usia'] > 30)\n",
        "df_filtered.show()\n",
        "\n",
        "# Menghitung rata-rata usia\n",
        "from pyspark.sql.functions import avg\n",
        "df.groupBy().agg(avg(\"Usia\")).show()\n",
        "\n",
        "# Mengurutkan data berdasarkan usia\n",
        "df_sorted = df.orderBy(\"Usia\", ascending=False)\n",
        "df_sorted.show()\n"
      ],
      "metadata": {
        "colab": {
          "base_uri": "https://localhost:8080/"
        },
        "id": "pJ89Et0qV-SR",
        "outputId": "8e476396-bf31-49fd-f9b1-27ed5a9bbee8"
      },
      "execution_count": null,
      "outputs": [
        {
          "output_type": "stream",
          "name": "stdout",
          "text": [
            "+-----+----+---------+---------+------+\n",
            "| Nama|Usia|     work|    hobby|gender|\n",
            "+-----+----+---------+---------+------+\n",
            "|  Ali|  34| kantoran|memancing|  pria|\n",
            "| Budi|  23|wirausaha|  bermain|  pria|\n",
            "|Citra|  29|    dosen|  belajar|wanita|\n",
            "| Dina|  45| pedagang|  belanja|wanita|\n",
            "+-----+----+---------+---------+------+\n",
            "\n",
            "+----+----+--------+---------+------+\n",
            "|Nama|Usia|    work|    hobby|gender|\n",
            "+----+----+--------+---------+------+\n",
            "| Ali|  34|kantoran|memancing|  pria|\n",
            "|Dina|  45|pedagang|  belanja|wanita|\n",
            "+----+----+--------+---------+------+\n",
            "\n",
            "+---------+\n",
            "|avg(Usia)|\n",
            "+---------+\n",
            "|    32.75|\n",
            "+---------+\n",
            "\n",
            "+-----+----+---------+---------+------+\n",
            "| Nama|Usia|     work|    hobby|gender|\n",
            "+-----+----+---------+---------+------+\n",
            "| Dina|  45| pedagang|  belanja|wanita|\n",
            "|  Ali|  34| kantoran|memancing|  pria|\n",
            "|Citra|  29|    dosen|  belajar|wanita|\n",
            "| Budi|  23|wirausaha|  bermain|  pria|\n",
            "+-----+----+---------+---------+------+\n",
            "\n"
          ]
        }
      ]
    },
    {
      "cell_type": "markdown",
      "source": [
        "Tugas 3"
      ],
      "metadata": {
        "id": "-X-ekPn8mE0X"
      }
    },
    {
      "cell_type": "code",
      "source": [
        "import pandas as pd\n",
        "\n",
        "# Membuat DataFrame Pandas\n",
        "data_pandas = {\"Nama\": [\"Ali\", \"Budi\", \"Citra\", \"Dina\"], \"Usia\": [34, 23, 29, 45]}\n",
        "df_pandas = pd.DataFrame(data_pandas)\n",
        "\n",
        "# Menampilkan DataFrame Pandas\n",
        "df_pandas\n",
        "\n",
        "# Filtering data\n",
        "df_filtered = df.filter(df['Usia'] > 10)\n",
        "df_filtered.show()"
      ],
      "metadata": {
        "colab": {
          "base_uri": "https://localhost:8080/"
        },
        "id": "nIAUlZO5XQdP",
        "outputId": "86353803-6e51-464f-b711-bf0d11e9add6"
      },
      "execution_count": null,
      "outputs": [
        {
          "output_type": "stream",
          "name": "stdout",
          "text": [
            "+-----+----+\n",
            "| Nama|Usia|\n",
            "+-----+----+\n",
            "|  Ali|  34|\n",
            "| Budi|  23|\n",
            "|Citra|  29|\n",
            "| Dina|  45|\n",
            "+-----+----+\n",
            "\n"
          ]
        }
      ]
    },
    {
      "cell_type": "markdown",
      "source": [
        "Tugas 4"
      ],
      "metadata": {
        "id": "VJHoqBTDmK2M"
      }
    },
    {
      "cell_type": "code",
      "source": [
        "import pandas as pd\n",
        "\n",
        "# Membuat DataFrame Pandas\n",
        "data_pandas = {\"Nama\": [\"Ali\", \"Budi\", \"Citra\", \"Dina\"], \"Usia\": [34, 23, 29, 45]}\n",
        "df_pandas = pd.DataFrame(data_pandas)\n",
        "\n",
        "# Membuat DataFrame kedua\n",
        "data_pandas_2 = {\"Nama\": [\"Ali\", \"Budi\", \"Citra\", \"Dina\"], \"Pekerjaan\": [\"Dokter\", \"Guru\", \"Insinyur\", \"Perawat\"]}\n",
        "df_pandas_2 = pd.DataFrame(data_pandas_2)\n",
        "\n",
        "# Join antara dua DataFrame\n",
        "df_joined = pd.merge(df_pandas, df_pandas_2, on=\"Nama\")\n",
        "print(df_joined)\n",
        "\n",
        "# Menghitung statistik deskriptif\n",
        "print(df_pandas.describe())\n",
        "\n",
        "# Plotting Data\n",
        "import matplotlib.pyplot as plt\n",
        "df_pandas['Usia'].plot(kind='bar')\n",
        "plt.show()\n"
      ],
      "metadata": {
        "colab": {
          "base_uri": "https://localhost:8080/",
          "height": 668
        },
        "id": "VIMuBuQ7XYEy",
        "outputId": "31f06b43-38f7-498c-c502-afe42d227c17"
      },
      "execution_count": null,
      "outputs": [
        {
          "output_type": "stream",
          "name": "stdout",
          "text": [
            "    Nama  Usia Pekerjaan\n",
            "0    Ali    34    Dokter\n",
            "1   Budi    23      Guru\n",
            "2  Citra    29  Insinyur\n",
            "3   Dina    45   Perawat\n",
            "            Usia\n",
            "count   4.000000\n",
            "mean   32.750000\n",
            "std     9.322911\n",
            "min    23.000000\n",
            "25%    27.500000\n",
            "50%    31.500000\n",
            "75%    36.750000\n",
            "max    45.000000\n"
          ]
        },
        {
          "output_type": "display_data",
          "data": {
            "text/plain": [
              "<Figure size 640x480 with 1 Axes>"
            ],
            "image/png": "[encoded data removed]"
          },
          "metadata": {}
        }
      ]
    },
    {
      "cell_type": "markdown",
      "source": [
        "Tugas 5"
      ],
      "metadata": {
        "id": "ddPqfJJ1mMto"
      }
    },
    {
      "cell_type": "code",
      "source": [
        "import pandas\n",
        "import matplotlib.pyplot as plt\n",
        "from pyspark.sql import SparkSession\n",
        "\n",
        "spark = SparkSession.builder.appName(\"BigDataPractice\").getOrCreate()\n",
        "\n",
        "\n",
        "# Data PySpark\n",
        "pyspark_data = [\n",
        "    (\"Ali\", 34),\n",
        "    (\"Budi\", 23),\n",
        "    (\"Citra\", 29),\n",
        "    (\"Dina\", 45)\n",
        "]\n",
        "pyspark_columns = [\"Nama\", \"Usia\"]\n",
        "pyspark_df = spark.createDataFrame(pyspark_data, pyspark_columns)\n",
        "\n",
        "print(\"PySpark:\")\n",
        "pyspark_df.show()\n",
        "\n",
        "\n",
        "# Konversi data dari PySpark ke Pandas\n",
        "df_pandas_1 = pyspark_df.toPandas()\n",
        "\n",
        "print(\"Konversi PySpark ke Pandas:\")\n",
        "print(df_pandas_1)\n",
        "\n",
        "\n",
        "# Data Pandas\n",
        "data_pandas_2 = {\n",
        "    \"Nama\": [\"Ali\", \"Budi\", \"Citra\", \"Dina\"],\n",
        "    \"Pekerjaan\": [\"Insinyur\", \"Progammer\", \"Dokter\", \"Guru\"],\n",
        "    \"Hobi\": [\"Memancing\", \"Main Game\", \"Membaca\", \"Scroll Medsos\"],\n",
        "    \"Gender\": [\"Laki-laki\", \"Laki-laki\", \"Perempuan\", \"Perempuan\"]\n",
        "}\n",
        "df_pandas_2 = pandas.DataFrame(data_pandas_2)\n",
        "\n",
        "print(\"\\nPandas:\")\n",
        "print(df_pandas_2)\n",
        "\n",
        "\n",
        "# Gabungkan df_pandas_1 dan df_pandas_2\n",
        "df_joined = pandas.merge(df_pandas_1, df_pandas_2, on=\"Nama\")\n",
        "\n",
        "print(\"\\nJoin:\")\n",
        "print(df_joined)\n",
        "\n",
        "\n",
        "# Tampilkan df_joined menggunakan matplotlib\n",
        "print(\"\\n\")\n",
        "df_joined[\"Usia\"].plot(kind=\"bar\")\n",
        "plt.show()"
      ],
      "metadata": {
        "colab": {
          "base_uri": "https://localhost:8080/",
          "height": 980
        },
        "id": "nWDMTm8qYPVf",
        "outputId": "cda8dc3b-5b7b-46b8-8e2a-d7b9e480d5c1"
      },
      "execution_count": null,
      "outputs": [
        {
          "output_type": "stream",
          "name": "stdout",
          "text": [
            "PySpark:\n",
            "+-----+----+\n",
            "| Nama|Usia|\n",
            "+-----+----+\n",
            "|  Ali|  34|\n",
            "| Budi|  23|\n",
            "|Citra|  29|\n",
            "| Dina|  45|\n",
            "+-----+----+\n",
            "\n",
            "Konversi PySpark ke Pandas:\n",
            "    Nama  Usia\n",
            "0    Ali    34\n",
            "1   Budi    23\n",
            "2  Citra    29\n",
            "3   Dina    45\n",
            "\n",
            "Pandas:\n",
            "    Nama  Pekerjaan           Hobi     Gender\n",
            "0    Ali   Insinyur      Memancing  Laki-laki\n",
            "1   Budi  Progammer      Main Game  Laki-laki\n",
            "2  Citra     Dokter        Membaca  Perempuan\n",
            "3   Dina       Guru  Scroll Medsos  Perempuan\n",
            "\n",
            "Join:\n",
            "    Nama  Usia  Pekerjaan           Hobi     Gender\n",
            "0    Ali    34   Insinyur      Memancing  Laki-laki\n",
            "1   Budi    23  Progammer      Main Game  Laki-laki\n",
            "2  Citra    29     Dokter        Membaca  Perempuan\n",
            "3   Dina    45       Guru  Scroll Medsos  Perempuan\n",
            "\n",
            "\n"
          ]
        },
        {
          "output_type": "display_data",
          "data": {
            "text/plain": [
              "<Figure size 640x480 with 1 Axes>"
            ],
            "image/png": "[encoded data removed]"
          },
          "metadata": {}
        }
      ]
    },
    {
      "cell_type": "markdown",
      "source": [
        "Tugas 5"
      ],
      "metadata": {
        "id": "S_snX7bEmOKF"
      }
    },
    {
      "cell_type": "code",
      "source": [
        "import pandas\n",
        "import matplotlib.pyplot as plt\n",
        "\n",
        "from pyspark.sql import SparkSession\n",
        "\n",
        "spark = SparkSession.builder.appName(\"BigDataPractice\").getOrCreate()\n",
        "\n",
        "\n",
        "# Data PySpark\n",
        "pyspark_data = [\n",
        "    (\"Ali\", 34),\n",
        "    (\"Budi\", 23),\n",
        "    (\"Citra\", 29),\n",
        "    (\"Dina\", 45)\n",
        "]\n",
        "pyspark_columns = [\"Nama\", \"Usia\"]\n",
        "pyspark_df = spark.createDataFrame(pyspark_data, pyspark_columns)\n",
        "\n",
        "print(\"PySpark:\")\n",
        "pyspark_df.show()\n",
        "\n",
        "\n",
        "# Konversi data dari PySpark ke Pandas\n",
        "df_pandas_1 = pyspark_df.toPandas()\n",
        "\n",
        "print(\"Konversi PySpark ke Pandas:\")\n",
        "print(df_pandas_1)\n",
        "\n",
        "\n",
        "# Data Pandas\n",
        "data_pandas_2 = {\n",
        "    \"Nama\": [\"Ali\", \"Budi\", \"Citra\", \"Dina\"],\n",
        "    \"Pekerjaan\": [\"Insinyur\", \"Progammer\", \"Dokter\", \"Guru\"],\n",
        "    \"Hobi\": [\"Memancing\", \"Main Game\", \"Membaca\", \"Scroll Medsos\"],\n",
        "    \"Gender\": [\"Laki-laki\", \"Laki-laki\", \"Perempuan\", \"Perempuan\"]\n",
        "}\n",
        "df_pandas_2 = pandas.DataFrame(data_pandas_2)\n",
        "\n",
        "print(\"\\nPandas:\")\n",
        "print(df_pandas_2)\n",
        "\n",
        "\n",
        "# Gabungkan df_pandas_1 dan df_pandas_2\n",
        "df_joined = pandas.merge(df_pandas_1, df_pandas_2, on=\"Nama\")\n",
        "\n",
        "print(\"\\nJoin:\")\n",
        "print(df_joined)\n",
        "\n",
        "\n",
        "# Operasi statistik\n",
        "print(\"\\nBeberapa operasi statistik dalam kolom \\\"Usia\\\"\")\n",
        "print(f\"Tertinggi\\t: {df_joined['Usia'].max()}\")\n",
        "print(f\"Rata-rata\\t: {df_joined['Usia'].mean()}\")\n",
        "print(f\"Terendah\\t: {df_joined['Usia'].min()}\")\n",
        "print(f\"Median\\t\\t: {df_joined['Usia'].median()}\")\n",
        "print(f\"Jumlah\\t\\t: {df_joined['Usia'].sum()}\")"
      ],
      "metadata": {
        "colab": {
          "base_uri": "https://localhost:8080/"
        },
        "id": "OQf2aDkwYYzn",
        "outputId": "d4659a7e-252c-477a-87af-0a4f1081f67c"
      },
      "execution_count": null,
      "outputs": [
        {
          "output_type": "stream",
          "name": "stdout",
          "text": [
            "PySpark:\n",
            "+-----+----+\n",
            "| Nama|Usia|\n",
            "+-----+----+\n",
            "|  Ali|  34|\n",
            "| Budi|  23|\n",
            "|Citra|  29|\n",
            "| Dina|  45|\n",
            "+-----+----+\n",
            "\n",
            "Konversi PySpark ke Pandas:\n",
            "    Nama  Usia\n",
            "0    Ali    34\n",
            "1   Budi    23\n",
            "2  Citra    29\n",
            "3   Dina    45\n",
            "\n",
            "Pandas:\n",
            "    Nama  Pekerjaan           Hobi     Gender\n",
            "0    Ali   Insinyur      Memancing  Laki-laki\n",
            "1   Budi  Progammer      Main Game  Laki-laki\n",
            "2  Citra     Dokter        Membaca  Perempuan\n",
            "3   Dina       Guru  Scroll Medsos  Perempuan\n",
            "\n",
            "Join:\n",
            "    Nama  Usia  Pekerjaan           Hobi     Gender\n",
            "0    Ali    34   Insinyur      Memancing  Laki-laki\n",
            "1   Budi    23  Progammer      Main Game  Laki-laki\n",
            "2  Citra    29     Dokter        Membaca  Perempuan\n",
            "3   Dina    45       Guru  Scroll Medsos  Perempuan\n",
            "\n",
            "Beberapa operasi statistik dalam kolom \"Usia\"\n",
            "Tertinggi\t: 45\n",
            "Rata-rata\t: 32.75\n",
            "Terendah\t: 23\n",
            "Median\t\t: 31.5\n",
            "Jumlah\t\t: 131\n"
          ]
        }
      ]
    }
  ]
}
